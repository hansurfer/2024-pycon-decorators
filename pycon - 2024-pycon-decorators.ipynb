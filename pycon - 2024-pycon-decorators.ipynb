{
 "cells": [
  {
   "cell_type": "markdown",
   "metadata": {},
   "source": [
    "# Welcome!\n",
    "\n",
    "Jupyter repo for this tutorial: https://github.com/reuven/2024-pycon-decorators/\n",
    "\n",
    "# Agenda\n",
    "\n",
    "1. What are decorators?\n",
    "2. Writing your first decorator\n",
    "3. Outer function storage\n",
    "4. Inputs and outputs\n",
    "5. Decorators that take arguments\n",
    "6. Nested decorators\n",
    "7. Decorating classes\n",
    "8. Writing decorators as classes"
   ]
  },
  {
   "cell_type": "markdown",
   "metadata": {},
   "source": [
    "# What are decorators?\n",
    "\n",
    "Let's assume that we have two basic functions."
   ]
  },
  {
   "cell_type": "code",
   "execution_count": 2,
   "metadata": {},
   "outputs": [
    {
     "name": "stdout",
     "output_type": "stream",
     "text": [
      "A!\n",
      "\n",
      "B!\n",
      "\n"
     ]
    }
   ],
   "source": [
    "def a():\n",
    "    return f'A!\\n'\n",
    "\n",
    "def b():\n",
    "    return f'B!\\n'\n",
    "\n",
    "print(a())\n",
    "print(b())"
   ]
  },
  {
   "cell_type": "code",
   "execution_count": 3,
   "metadata": {},
   "outputs": [
    {
     "name": "stdout",
     "output_type": "stream",
     "text": [
      "------------------------------------------------------------\n",
      "A!\n",
      "------------------------------------------------------------\n",
      "\n",
      "------------------------------------------------------------\n",
      "B!\n",
      "------------------------------------------------------------\n",
      "\n"
     ]
    }
   ],
   "source": [
    "lines = '-' * 60 + '\\n'\n",
    "\n",
    "def a():\n",
    "    return f'{lines}A!\\n{lines}'\n",
    "\n",
    "def b():\n",
    "    return f'{lines}B!\\n{lines}'\n",
    "\n",
    "print(a())\n",
    "print(b())"
   ]
  },
  {
   "cell_type": "markdown",
   "metadata": {},
   "source": [
    "# Don't Repeat Yourself (DRY) rule of programming\n",
    "\n",
    "Right now, we have a technique that will require us to include `lines` in every function we write!\n",
    "\n",
    "How can I include `lines` without having to include that variable explicitly in every function?"
   ]
  },
  {
   "cell_type": "code",
   "execution_count": 4,
   "metadata": {},
   "outputs": [
    {
     "name": "stdout",
     "output_type": "stream",
     "text": [
      "----------------------------------------\n",
      "A!\n",
      "----------------------------------------\n",
      "\n",
      "----------------------------------------\n",
      "B!\n",
      "----------------------------------------\n",
      "\n"
     ]
    }
   ],
   "source": [
    "# option 1: Write a new function that takes a function as an argument\n",
    "\n",
    "lines = '-' * 40 + '\\n'\n",
    "\n",
    "def with_lines(func):\n",
    "    return f'{lines}{func()}{lines}'\n",
    "\n",
    "def a():\n",
    "    return f'A!\\n'\n",
    "\n",
    "def b():\n",
    "    return f'B!\\n'\n",
    "\n",
    "print(with_lines(a))\n",
    "print(with_lines(b))"
   ]
  },
  {
   "cell_type": "code",
   "execution_count": 5,
   "metadata": {},
   "outputs": [
    {
     "name": "stdout",
     "output_type": "stream",
     "text": [
      "----------------------------------------\n",
      "A!\n",
      "----------------------------------------\n",
      "\n",
      "----------------------------------------\n",
      "B!\n",
      "----------------------------------------\n",
      "\n"
     ]
    }
   ],
   "source": [
    "# option 2: turn with_lines into a function that returns a function\n",
    "# that is: We're going to create a closure!\n",
    "\n",
    "lines = '-' * 40 + '\\n'\n",
    "\n",
    "def with_lines(func):\n",
    "    def wrapper():\n",
    "        return f'{lines}{func()}{lines}'\n",
    "    return wrapper\n",
    "\n",
    "def a():\n",
    "    return f'A!\\n'\n",
    "with_lines_a = with_lines(a)\n",
    "\n",
    "def b():\n",
    "    return f'B!\\n'\n",
    "\n",
    "with_lines_b = with_lines(b)\n",
    "\n",
    "print(with_lines_a())\n",
    "print(with_lines_b())"
   ]
  },
  {
   "cell_type": "code",
   "execution_count": 7,
   "metadata": {},
   "outputs": [
    {
     "name": "stdout",
     "output_type": "stream",
     "text": [
      "----------------------------------------\n",
      "A!\n",
      "----------------------------------------\n",
      "\n",
      "----------------------------------------\n",
      "B!\n",
      "----------------------------------------\n",
      "\n"
     ]
    }
   ],
   "source": [
    "# option 3: don't assign to with_lines_a and with_lines_b\n",
    "# rather, assign to a and b\n",
    "\n",
    "lines = '-' * 40 + '\\n'\n",
    "\n",
    "def with_lines(func):\n",
    "    def wrapper():\n",
    "        return f'{lines}{func()}{lines}'\n",
    "    return wrapper\n",
    "\n",
    "def a():\n",
    "    return f'A!\\n'\n",
    "a = with_lines(a)\n",
    "\n",
    "def b():\n",
    "    return f'B!\\n'\n",
    "b = with_lines(b)\n",
    "\n",
    "print(a())\n",
    "print(b())"
   ]
  },
  {
   "cell_type": "code",
   "execution_count": 8,
   "metadata": {},
   "outputs": [
    {
     "name": "stdout",
     "output_type": "stream",
     "text": [
      "7\n"
     ]
    }
   ],
   "source": [
    "x = 5\n",
    "x = 7\n",
    "print(x)"
   ]
  },
  {
   "cell_type": "code",
   "execution_count": 9,
   "metadata": {},
   "outputs": [
    {
     "name": "stdout",
     "output_type": "stream",
     "text": [
      "----------------------------------------\n",
      "A!\n",
      "----------------------------------------\n",
      "\n",
      "----------------------------------------\n",
      "B!\n",
      "----------------------------------------\n",
      "\n"
     ]
    }
   ],
   "source": [
    "# option 4: Use Python decorator syntax\n",
    "\n",
    "lines = '-' * 40 + '\\n'\n",
    "\n",
    "def with_lines(func):\n",
    "    def wrapper():\n",
    "        return f'{lines}{func()}{lines}'\n",
    "    return wrapper\n",
    "\n",
    "@with_lines    # this is 100% equivalent to what's in line 13 -- decorator syntax\n",
    "def a():\n",
    "    return f'A!\\n'\n",
    "# a = with_lines(a)\n",
    "\n",
    "@with_lines\n",
    "def b():\n",
    "    return f'B!\\n'\n",
    "# b = with_lines(b)\n",
    "\n",
    "print(a())\n",
    "print(b())"
   ]
  },
  {
   "cell_type": "markdown",
   "metadata": {},
   "source": [
    "# Who needs this? \n",
    "\n",
    "1. if I have many functions that need to do the same thing, I can extract that functionality into a decorator, and thus DRY up my code.\n",
    "2. Timing my functions\n",
    "3. Security of my functions\n",
    "4. Setting values before/after (setup/teardown)\n",
    "5. Logging\n",
    "6. Checking/filtering inputs\n",
    "7. Filtering outputs"
   ]
  },
  {
   "cell_type": "code",
   "execution_count": 11,
   "metadata": {},
   "outputs": [
    {
     "ename": "TypeError",
     "evalue": "with_lines.<locals>.wrapper() takes 0 positional arguments but 2 were given",
     "output_type": "error",
     "traceback": [
      "\u001b[0;31m---------------------------------------------------------------------------\u001b[0m",
      "\u001b[0;31mTypeError\u001b[0m                                 Traceback (most recent call last)",
      "Cell \u001b[0;32mIn[11], line 7\u001b[0m\n\u001b[1;32m      3\u001b[0m \u001b[38;5;129m@with_lines\u001b[39m\n\u001b[1;32m      4\u001b[0m \u001b[38;5;28;01mdef\u001b[39;00m \u001b[38;5;21madd\u001b[39m(x, y):\n\u001b[1;32m      5\u001b[0m     \u001b[38;5;28;01mreturn\u001b[39;00m \u001b[38;5;124mf\u001b[39m\u001b[38;5;124m'\u001b[39m\u001b[38;5;132;01m{\u001b[39;00mx\u001b[38;5;250m \u001b[39m\u001b[38;5;241m+\u001b[39m\u001b[38;5;250m \u001b[39my\u001b[38;5;132;01m}\u001b[39;00m\u001b[38;5;130;01m\\n\u001b[39;00m\u001b[38;5;124m'\u001b[39m\n\u001b[0;32m----> 7\u001b[0m \u001b[38;5;28mprint\u001b[39m(\u001b[43madd\u001b[49m\u001b[43m(\u001b[49m\u001b[38;5;241;43m3\u001b[39;49m\u001b[43m,\u001b[49m\u001b[43m \u001b[49m\u001b[38;5;241;43m5\u001b[39;49m\u001b[43m)\u001b[49m)\n",
      "\u001b[0;31mTypeError\u001b[0m: with_lines.<locals>.wrapper() takes 0 positional arguments but 2 were given"
     ]
    }
   ],
   "source": [
    "# let's decorate another function!\n",
    "\n",
    "@with_lines\n",
    "def add(x, y):\n",
    "    return f'{x + y}\\n'\n",
    "\n",
    "print(add(3, 5))"
   ]
  },
  {
   "cell_type": "code",
   "execution_count": 13,
   "metadata": {},
   "outputs": [
    {
     "name": "stdout",
     "output_type": "stream",
     "text": [
      "----------------------------------------\n",
      "8\n",
      "----------------------------------------\n",
      "\n"
     ]
    }
   ],
   "source": [
    "\n",
    "def with_lines(func):\n",
    "    def wrapper(*args):   # take any number of positional arguments, create a tuple, args\n",
    "        return f'{lines}{func(*args)}{lines}'  # turn args into arguments to func()\n",
    "    return wrapper\n",
    "\n",
    "@with_lines\n",
    "def add(x, y):\n",
    "    return f'{x + y}\\n'\n",
    "\n",
    "print(add(3, 5))"
   ]
  },
  {
   "cell_type": "markdown",
   "metadata": {},
   "source": [
    "# How to write a decorator\n",
    "\n",
    "1. The outer function, the decorator, takes one argument, a function (`func`) -- this is the function that will be decorated. This outer function is invoked once, when we define the decorated function.\n",
    "2. The inner function, typically called `wrapper`, takes `*args` (and maybe `**kwargs`). It in invoked every time the original function is invoked. It can do whatever it wants with the arguments and outputs\n",
    "3. Ater defining the inner function, the outer function returns `wrapper`.\n",
    "4. We can then decorate any function with `@deco_name`"
   ]
  },
  {
   "cell_type": "code",
   "execution_count": 14,
   "metadata": {},
   "outputs": [
    {
     "data": {
      "text/plain": [
       "60"
      ]
     },
     "execution_count": 14,
     "metadata": {},
     "output_type": "execute_result"
    }
   ],
   "source": [
    "def mysum(numbers):\n",
    "    total = 0\n",
    "    for one_number in numbers:\n",
    "        total += one_number\n",
    "    return total\n",
    "\n",
    "mysum([10, 20, 30])\n"
   ]
  },
  {
   "cell_type": "code",
   "execution_count": 15,
   "metadata": {},
   "outputs": [
    {
     "ename": "TypeError",
     "evalue": "mysum() takes 1 positional argument but 3 were given",
     "output_type": "error",
     "traceback": [
      "\u001b[0;31m---------------------------------------------------------------------------\u001b[0m",
      "\u001b[0;31mTypeError\u001b[0m                                 Traceback (most recent call last)",
      "Cell \u001b[0;32mIn[15], line 1\u001b[0m\n\u001b[0;32m----> 1\u001b[0m \u001b[43mmysum\u001b[49m\u001b[43m(\u001b[49m\u001b[38;5;241;43m10\u001b[39;49m\u001b[43m,\u001b[49m\u001b[43m \u001b[49m\u001b[38;5;241;43m20\u001b[39;49m\u001b[43m,\u001b[49m\u001b[43m \u001b[49m\u001b[38;5;241;43m30\u001b[39;49m\u001b[43m)\u001b[49m\n",
      "\u001b[0;31mTypeError\u001b[0m: mysum() takes 1 positional argument but 3 were given"
     ]
    }
   ],
   "source": [
    "mysum(10, 20, 30)"
   ]
  },
  {
   "cell_type": "code",
   "execution_count": 16,
   "metadata": {},
   "outputs": [
    {
     "data": {
      "text/plain": [
       "60"
      ]
     },
     "execution_count": 16,
     "metadata": {},
     "output_type": "execute_result"
    }
   ],
   "source": [
    "def mysum(*numbers):   # now the function takes any number of positional arguments\n",
    "    total = 0\n",
    "    for one_number in numbers:\n",
    "        total += one_number\n",
    "    return total\n",
    "\n",
    "mysum(10, 20, 30)\n"
   ]
  },
  {
   "cell_type": "markdown",
   "metadata": {},
   "source": [
    "# Exercise: Shouter\n",
    "\n",
    "1. Write a decorator, `shouter`, that decorates functions that return strings.\n",
    "2. Any such function's output will return all `IN CAPS` and with an exclamation point at the end.\n",
    "\n",
    "Example:\n",
    "\n",
    "```python\n",
    "@shouter\n",
    "def hello(name):\n",
    "    return f'Hello, {name}'\n",
    "\n",
    "print(hello('Reuven'))      # output HELLO, REUVEN!\n",
    "```\n",
    "\n",
    "Hint:\n",
    "1. Use `str.upper`\n",
    "2. Use `!`"
   ]
  },
  {
   "cell_type": "code",
   "execution_count": 22,
   "metadata": {},
   "outputs": [
    {
     "name": "stdout",
     "output_type": "stream",
     "text": [
      "HELLO, REUVEN!\n"
     ]
    }
   ],
   "source": [
    "def shouter(func):   # outer function / decorator function\n",
    "    def wrapper(*args):   # inner function -- runs each time we invoke hello\n",
    "        return f'{func(*args).upper()}!'\n",
    "    return wrapper\n",
    "\n",
    "@shouter\n",
    "def hello(name):\n",
    "    return f'Hello, {name}'\n",
    "\n",
    "print(hello('Reuven'))"
   ]
  },
  {
   "cell_type": "markdown",
   "metadata": {},
   "source": [
    "# Exercise: Timing of functions\n",
    "\n",
    "Write a decorator, `timefunc`, that will not change the inputs or outputs of the decorated function. However, it will keep track of how long it took to run the function, and will write its results to a file, `timing.txt`.\n",
    "\n",
    "Every time I run the decorated function, I'll get another line in `timing.txt`, with (a) the function name, (b) when it was started, and (c) how long it took.\n",
    "\n",
    "Hints:\n",
    "1. Normally, writing to a file with `w` will overwrite the file's contents. You should open a file with `a` (append), and then that won't happen.\n",
    "2. You can get the function name from the `__name__` attribute.\n",
    "3. You can get the current Unix time (seconds since 1 Jan 1970) with `time.time()`\n",
    "\n",
    "```python\n",
    "import random\n",
    "import time\n",
    "\n",
    "@timefunc\n",
    "def slow_add(a, b):\n",
    "    time.sleep(random.randint(0, 3))\n",
    "    return a + b\n",
    "\n",
    "@timefunc\n",
    "def slow_mul(a, b):\n",
    "    time.sleep(random.randint(0, 3))\n",
    "    return a * b\n",
    "\n",
    "print(slow_add(2, 3))    \n",
    "print(slow_mul(4, 5))\n",
    "```"
   ]
  },
  {
   "cell_type": "code",
   "execution_count": 25,
   "metadata": {},
   "outputs": [
    {
     "name": "stdout",
     "output_type": "stream",
     "text": [
      "5\n",
      "20\n"
     ]
    }
   ],
   "source": [
    "import random\n",
    "import time\n",
    "\n",
    "def timefunc(func):\n",
    "    def wrapper(*args):\n",
    "        start_time = time.time()\n",
    "        value = func(*args)\n",
    "        end_time = time.time()\n",
    "\n",
    "        with open('timing.txt', 'a') as f:\n",
    "            f.write(f'{func.__name__}\\t{start_time}\\t{end_time-start_time}\\n')\n",
    "        return value\n",
    "    return wrapper\n",
    "\n",
    "@timefunc\n",
    "def slow_add(a, b):\n",
    "    time.sleep(random.randint(0, 3))\n",
    "    return a + b\n",
    "\n",
    "@timefunc\n",
    "def slow_mul(a, b):\n",
    "    time.sleep(random.randint(0, 3))\n",
    "    return a * b\n",
    "\n",
    "print(slow_add(2, 3))    \n",
    "print(slow_mul(4, 5))"
   ]
  },
  {
   "cell_type": "code",
   "execution_count": 26,
   "metadata": {},
   "outputs": [
    {
     "name": "stdout",
     "output_type": "stream",
     "text": [
      "slow_add\t1715884373.5334568\t1.71661376953125e-05\n",
      "slow_mul\t1715884373.534719\t1.4066696166992188e-05\n",
      "slow_add\t1715884378.5905652\t1.0001816749572754\n",
      "slow_mul\t1715884379.591807\t2.0012950897216797\n"
     ]
    }
   ],
   "source": [
    "!cat timing.txt"
   ]
  },
  {
   "cell_type": "markdown",
   "metadata": {},
   "source": [
    "# Using the outer function\n",
    "\n",
    "When we have an iinner function, it has access (as we've seen) to the outer function's parameters and local variables. However, we can go further than this, storing data in the outer function. That data persists across calls to our inner (wrapper) function."
   ]
  },
  {
   "cell_type": "code",
   "execution_count": 36,
   "metadata": {},
   "outputs": [
    {
     "ename": "UnboundLocalError",
     "evalue": "cannot access local variable 'counter' where it is not associated with a value",
     "output_type": "error",
     "traceback": [
      "\u001b[0;31m---------------------------------------------------------------------------\u001b[0m",
      "\u001b[0;31mUnboundLocalError\u001b[0m                         Traceback (most recent call last)",
      "Cell \u001b[0;32mIn[36], line 23\u001b[0m\n\u001b[1;32m     20\u001b[0m     time\u001b[38;5;241m.\u001b[39msleep(random\u001b[38;5;241m.\u001b[39mrandint(\u001b[38;5;241m0\u001b[39m, \u001b[38;5;241m3\u001b[39m))\n\u001b[1;32m     21\u001b[0m     \u001b[38;5;28;01mreturn\u001b[39;00m a \u001b[38;5;241m*\u001b[39m b\n\u001b[0;32m---> 23\u001b[0m \u001b[38;5;28mprint\u001b[39m(\u001b[43mslow_add\u001b[49m\u001b[43m(\u001b[49m\u001b[38;5;241;43m2\u001b[39;49m\u001b[43m,\u001b[49m\u001b[43m \u001b[49m\u001b[38;5;241;43m3\u001b[39;49m\u001b[43m)\u001b[49m)    \n\u001b[1;32m     24\u001b[0m \u001b[38;5;28mprint\u001b[39m(slow_mul(\u001b[38;5;241m4\u001b[39m, \u001b[38;5;241m5\u001b[39m))\n\u001b[1;32m     25\u001b[0m \u001b[38;5;28mprint\u001b[39m(slow_add(\u001b[38;5;241m2\u001b[39m, \u001b[38;5;241m3\u001b[39m))    \n",
      "Cell \u001b[0;32mIn[36], line 8\u001b[0m, in \u001b[0;36mcount_calls.<locals>.wrapper\u001b[0;34m(*args)\u001b[0m\n\u001b[1;32m      6\u001b[0m \u001b[38;5;28;01mdef\u001b[39;00m \u001b[38;5;21mwrapper\u001b[39m(\u001b[38;5;241m*\u001b[39margs):\n\u001b[1;32m      7\u001b[0m     value \u001b[38;5;241m=\u001b[39m func(\u001b[38;5;241m*\u001b[39margs)\n\u001b[0;32m----> 8\u001b[0m     \u001b[43mcounter\u001b[49m \u001b[38;5;241m+\u001b[39m\u001b[38;5;241m=\u001b[39m \u001b[38;5;241m1\u001b[39m\n\u001b[1;32m      9\u001b[0m     \u001b[38;5;28mprint\u001b[39m(\u001b[38;5;124mf\u001b[39m\u001b[38;5;124m'\u001b[39m\u001b[38;5;132;01m{\u001b[39;00mfunc\u001b[38;5;241m.\u001b[39m\u001b[38;5;18m__name__\u001b[39m\u001b[38;5;132;01m}\u001b[39;00m\u001b[38;5;124m: \u001b[39m\u001b[38;5;132;01m{\u001b[39;00mcounter\u001b[38;5;132;01m=}\u001b[39;00m\u001b[38;5;124m'\u001b[39m)\n\u001b[1;32m     10\u001b[0m     \u001b[38;5;28;01mreturn\u001b[39;00m value\n",
      "\u001b[0;31mUnboundLocalError\u001b[0m: cannot access local variable 'counter' where it is not associated with a value"
     ]
    }
   ],
   "source": [
    "# I want to know how many times a function has been invoked, and print that\n",
    "# to the screen every time we call it.\n",
    "\n",
    "def count_calls(func):\n",
    "    counter = 0\n",
    "    def wrapper(*args):\n",
    "        value = func(*args)\n",
    "        counter += 1    # counter = counter + 1\n",
    "        print(f'{func.__name__}: {counter=}')\n",
    "        return value\n",
    "    return wrapper\n",
    "\n",
    "@count_calls\n",
    "def slow_add(a, b):\n",
    "    time.sleep(random.randint(0, 3))\n",
    "    return a + b\n",
    "\n",
    "@count_calls\n",
    "def slow_mul(a, b):\n",
    "    time.sleep(random.randint(0, 3))\n",
    "    return a * b\n",
    "\n",
    "print(slow_add(2, 3))    \n",
    "print(slow_mul(4, 5))\n",
    "print(slow_add(2, 3))    \n",
    "print(slow_mul(4, 5))\n",
    "print(slow_add(2, 3))    \n",
    "print(slow_mul(4, 5))"
   ]
  },
  {
   "cell_type": "code",
   "execution_count": 6,
   "metadata": {},
   "outputs": [
    {
     "name": "stdout",
     "output_type": "stream",
     "text": [
      "slow_add: counter=1\n",
      "5\n",
      "slow_add: counter=2\n",
      "5\n",
      "slow_add: counter=3\n",
      "5\n",
      "slow_mul: counter=1\n",
      "20\n"
     ]
    }
   ],
   "source": [
    "# nonlocal to the rescule\n",
    "\n",
    "import time\n",
    "import random\n",
    "\n",
    "def count_calls(func):\n",
    "    counter = 0\n",
    "    def wrapper(*args):\n",
    "        nonlocal counter\n",
    "        value = func(*args)\n",
    "        counter += 1\n",
    "        print(f'{func.__name__}: {counter=}')\n",
    "        return value\n",
    "    return wrapper\n",
    "\n",
    "@count_calls\n",
    "def slow_add(a, b):\n",
    "    time.sleep(random.randint(0, 3))\n",
    "    return a + b\n",
    "\n",
    "@count_calls\n",
    "def slow_mul(a, b):\n",
    "    time.sleep(random.randint(0, 3))\n",
    "    return a * b\n",
    "\n",
    "print(slow_add(2, 3))    \n",
    "print(slow_add(2, 3))    \n",
    "print(slow_add(2, 3))    \n",
    "print(slow_mul(4, 5))"
   ]
  },
  {
   "cell_type": "markdown",
   "metadata": {},
   "source": [
    "# Memoization\n",
    "\n",
    "This is an old technique for caching. The idea is that every time we call a function, we want to check the arguments passed to the function:\n",
    "\n",
    "- If the arguments haven't been seen before, we run the function and cache the result\n",
    "- If the arguments have been seen before, then just grab the results from the cache and return them\n",
    "\n"
   ]
  },
  {
   "cell_type": "code",
   "execution_count": 11,
   "metadata": {},
   "outputs": [
    {
     "name": "stdout",
     "output_type": "stream",
     "text": [
      "\tActually calling slow_add with (2, 3)\n",
      "5\n",
      "5\n",
      "\tActually calling slow_add with (3, 4)\n",
      "7\n",
      "\tActually calling slow_mul with (2, 3)\n",
      "6\n",
      "6\n",
      "\tActually calling slow_mul with (1, 2)\n",
      "2\n"
     ]
    }
   ],
   "source": [
    "def memoize(func):\n",
    "    cache = {}\n",
    "    def wrapper(*args):\n",
    "        if args not in cache:\n",
    "            print(f'\\tActually calling {func.__name__} with {args}')\n",
    "            cache[args] = func(*args)\n",
    "        return cache[args]\n",
    "    return wrapper\n",
    "\n",
    "@memoize\n",
    "def slow_add(a, b):\n",
    "    time.sleep(random.randint(0, 3))\n",
    "    return a + b\n",
    "\n",
    "@memoize\n",
    "def slow_mul(a, b):\n",
    "    time.sleep(random.randint(0, 3))\n",
    "    return a * b\n",
    "\n",
    "print(slow_add(2, 3))    \n",
    "print(slow_add(2, 3))    \n",
    "print(slow_add(3, 4))    \n",
    "print(slow_mul(2, 3))\n",
    "print(slow_mul(2, 3))\n",
    "print(slow_mul(1, 2))"
   ]
  },
  {
   "cell_type": "markdown",
   "metadata": {},
   "source": [
    "# Exercise: `once_per_minute`\n",
    "\n",
    "Write a decorator, `once_per_minute`, that ensures a function can only run once in any 60-second period. Every time the function starts, it checks to make sure that at least 60 seconds have passed. \n",
    "\n",
    "If 60 seconds haven't passed since the last run, we should raise an exception.\n",
    "\n",
    "If they have passed, then reset the counter to the most recent start time.\n",
    "\n",
    "Hints:\n",
    "- Use `time.time()` to get the current Unix time (number of seconds since Jan 1, 1970)\n"
   ]
  },
  {
   "cell_type": "code",
   "execution_count": 16,
   "metadata": {},
   "outputs": [
    {
     "name": "stdout",
     "output_type": "stream",
     "text": [
      "5\n",
      "6\n"
     ]
    },
    {
     "ename": "CalledTooOftenError",
     "evalue": "Too soon!",
     "output_type": "error",
     "traceback": [
      "\u001b[0;31m---------------------------------------------------------------------------\u001b[0m",
      "\u001b[0;31mCalledTooOftenError\u001b[0m                       Traceback (most recent call last)",
      "Cell \u001b[0;32mIn[16], line 32\u001b[0m\n\u001b[1;32m     30\u001b[0m \u001b[38;5;28mprint\u001b[39m(slow_add(\u001b[38;5;241m2\u001b[39m, \u001b[38;5;241m3\u001b[39m))    \n\u001b[1;32m     31\u001b[0m \u001b[38;5;28mprint\u001b[39m(slow_mul(\u001b[38;5;241m2\u001b[39m, \u001b[38;5;241m3\u001b[39m))\n\u001b[0;32m---> 32\u001b[0m \u001b[38;5;28mprint\u001b[39m(\u001b[43mslow_add\u001b[49m\u001b[43m(\u001b[49m\u001b[38;5;241;43m2\u001b[39;49m\u001b[43m,\u001b[49m\u001b[43m \u001b[49m\u001b[38;5;241;43m3\u001b[39;49m\u001b[43m)\u001b[49m)    \n\u001b[1;32m     33\u001b[0m \u001b[38;5;28mprint\u001b[39m(slow_mul(\u001b[38;5;241m2\u001b[39m, \u001b[38;5;241m3\u001b[39m))\n",
      "Cell \u001b[0;32mIn[16], line 13\u001b[0m, in \u001b[0;36monce_per_minute.<locals>.wrapper\u001b[0;34m(*args)\u001b[0m\n\u001b[1;32m     10\u001b[0m current_time \u001b[38;5;241m=\u001b[39m time\u001b[38;5;241m.\u001b[39mtime()\n\u001b[1;32m     12\u001b[0m \u001b[38;5;28;01mif\u001b[39;00m current_time \u001b[38;5;241m-\u001b[39m last_ran_at \u001b[38;5;241m<\u001b[39m \u001b[38;5;241m60\u001b[39m:\n\u001b[0;32m---> 13\u001b[0m     \u001b[38;5;28;01mraise\u001b[39;00m CalledTooOftenError(\u001b[38;5;124m'\u001b[39m\u001b[38;5;124mToo soon!\u001b[39m\u001b[38;5;124m'\u001b[39m)\n\u001b[1;32m     14\u001b[0m last_ran_at \u001b[38;5;241m=\u001b[39m current_time\n\u001b[1;32m     16\u001b[0m value \u001b[38;5;241m=\u001b[39m func(\u001b[38;5;241m*\u001b[39margs)\n",
      "\u001b[0;31mCalledTooOftenError\u001b[0m: Too soon!"
     ]
    }
   ],
   "source": [
    "import time\n",
    "\n",
    "class CalledTooOftenError(Exception):\n",
    "    pass\n",
    "\n",
    "def once_per_minute(func):\n",
    "    last_ran_at = 0\n",
    "    def wrapper(*args):\n",
    "        nonlocal last_ran_at\n",
    "        current_time = time.time()\n",
    "\n",
    "        if current_time - last_ran_at < 60:\n",
    "            raise CalledTooOftenError('Too soon!')\n",
    "        last_ran_at = current_time\n",
    "        \n",
    "        value = func(*args)\n",
    "        return value\n",
    "    return wrapper\n",
    "\n",
    "@once_per_minute\n",
    "def slow_add(a, b):\n",
    "    time.sleep(random.randint(0, 3))\n",
    "    return a + b\n",
    "\n",
    "@once_per_minute\n",
    "def slow_mul(a, b):\n",
    "    time.sleep(random.randint(0, 3))\n",
    "    return a * b\n",
    "\n",
    "print(slow_add(2, 3))    \n",
    "print(slow_mul(2, 3))\n",
    "print(slow_add(2, 3))    \n",
    "print(slow_mul(2, 3))"
   ]
  },
  {
   "cell_type": "markdown",
   "metadata": {},
   "source": [
    "# Modifying inputs and outputs\n",
    "\n",
    "When we write a decorator, we have two opportunities to do something:\n",
    "\n",
    "1. When we define the function, and it's originally decorated. That is done by the outer function\n",
    "2. When we run the function, meaning that the inner (`wrapper`) function is invoked.\n",
    "\n",
    "This means that `wrapper` gets the arguments we wanted to pass to the original function, and it then invokes (or not) the original function.\n",
    "\n",
    "It can use this opportunity to filter / modify the arguments that we pass, and also filter / modify any results that we return."
   ]
  },
  {
   "cell_type": "code",
   "execution_count": 17,
   "metadata": {},
   "outputs": [
    {
     "data": {
      "text/plain": [
       "14"
      ]
     },
     "execution_count": 17,
     "metadata": {},
     "output_type": "execute_result"
    }
   ],
   "source": [
    "# Let's write a decorator that takes all of the arguments passed to\n",
    "# a function, and assumes that they are all integers. It only passes\n",
    "# along those integers that are odd.\n",
    "\n",
    "def mysum(*numbers):\n",
    "    total = 0\n",
    "\n",
    "    for one_number in numbers:\n",
    "        total += one_number\n",
    "\n",
    "    return total\n",
    "\n",
    "# normally, I could do this:\n",
    "mysum(2,3,4,5)   "
   ]
  },
  {
   "cell_type": "code",
   "execution_count": 19,
   "metadata": {},
   "outputs": [
    {
     "data": {
      "text/plain": [
       "8"
      ]
     },
     "execution_count": 19,
     "metadata": {},
     "output_type": "execute_result"
    }
   ],
   "source": [
    "# but with my only_odds in place, we'll get 8 (i.e., 3 + 5)\n",
    "\n",
    "def only_odds(func):\n",
    "    def wrapper(*args):\n",
    "\n",
    "        odd_numbers = []\n",
    "        for one_item in args:\n",
    "            if one_item % 2 == 1:\n",
    "                odd_numbers.append(one_item)\n",
    "                \n",
    "        value = func(*odd_numbers)\n",
    "        return value\n",
    "    return wrapper\n",
    "\n",
    "@only_odds\n",
    "def mysum(*numbers):\n",
    "    total = 0\n",
    "\n",
    "    for one_number in numbers:\n",
    "        total += one_number\n",
    "\n",
    "    return total\n",
    "\n",
    "# normally, I could do this:\n",
    "mysum(2,3,4,5)   "
   ]
  },
  {
   "cell_type": "code",
   "execution_count": 20,
   "metadata": {},
   "outputs": [
    {
     "data": {
      "text/plain": [
       "8"
      ]
     },
     "execution_count": 20,
     "metadata": {},
     "output_type": "execute_result"
    }
   ],
   "source": [
    "# let's tighten up the code a bit\n",
    "\n",
    "def only_odds(func):\n",
    "    def wrapper(*args):\n",
    "\n",
    "        odd_numbers = [one_arg\n",
    "                       for one_arg in args\n",
    "                       if one_arg %2 == 1]\n",
    "                \n",
    "        value = func(*odd_numbers)\n",
    "        return value\n",
    "    return wrapper\n",
    "\n",
    "@only_odds\n",
    "def mysum(*numbers):\n",
    "    total = 0\n",
    "\n",
    "    for one_number in numbers:\n",
    "        total += one_number\n",
    "\n",
    "    return total\n",
    "\n",
    "# normally, I could do this:\n",
    "mysum(2,3,4,5)   "
   ]
  },
  {
   "cell_type": "code",
   "execution_count": 21,
   "metadata": {},
   "outputs": [
    {
     "data": {
      "text/plain": [
       "8"
      ]
     },
     "execution_count": 21,
     "metadata": {},
     "output_type": "execute_result"
    }
   ],
   "source": [
    "# let's tighten up the code a bit (too much?)\n",
    "\n",
    "def only_odds(func):\n",
    "    def wrapper(*args):\n",
    "\n",
    "        # job security!\n",
    "        value = func(*[one_arg\n",
    "                       for one_arg in args\n",
    "                       if one_arg %2 == 1])\n",
    "        return value\n",
    "    return wrapper\n",
    "\n",
    "@only_odds\n",
    "def mysum(*numbers):\n",
    "    total = 0\n",
    "\n",
    "    for one_number in numbers:\n",
    "        total += one_number\n",
    "\n",
    "    return total\n",
    "\n",
    "# normally, I could do this:\n",
    "mysum(2,3,4,5)   "
   ]
  },
  {
   "cell_type": "markdown",
   "metadata": {},
   "source": [
    "# Exercise: `only_ints`\n",
    "\n",
    "Write a decorator that ensures that only integers will be passed to the underlying function.\n",
    "\n",
    "Hints:\n",
    "- Don't ever use `type(x) == int` in your code. Rather, use `isinstance(x, int)` to check.\n",
    "\n",
    "Example:\n",
    "\n",
    "I should be able to call\n",
    "\n",
    "```python\n",
    "mysum(10, 15, 'hello', 20, 30, 'goodbye')\n",
    "```\n",
    "\n",
    "it'll work just fine, returning 75 and not giving me any exception."
   ]
  },
  {
   "cell_type": "code",
   "execution_count": 24,
   "metadata": {},
   "outputs": [
    {
     "data": {
      "text/plain": [
       "75"
      ]
     },
     "execution_count": 24,
     "metadata": {},
     "output_type": "execute_result"
    }
   ],
   "source": [
    "def only_ints(func):\n",
    "    def wrapper(*args):\n",
    "        ints = [one_arg\n",
    "               for one_arg in args\n",
    "               if isinstance(one_arg, int)]\n",
    "\n",
    "        value = func(*ints)\n",
    "        return value\n",
    "    return wrapper\n",
    "\n",
    "@only_ints\n",
    "def mysum(*numbers):\n",
    "    total = 0\n",
    "\n",
    "    for one_number in numbers:\n",
    "        total += one_number\n",
    "\n",
    "    return total\n",
    "\n",
    "mysum(10, 15, 'hello', 20, 30, 'goodbye')"
   ]
  },
  {
   "cell_type": "code",
   "execution_count": 25,
   "metadata": {},
   "outputs": [
    {
     "name": "stdout",
     "output_type": "stream",
     "text": [
      "Help on built-in function len in module builtins:\n",
      "\n",
      "len(obj, /)\n",
      "    Return the number of items in a container.\n",
      "\n"
     ]
    }
   ],
   "source": [
    "help(len)"
   ]
  },
  {
   "cell_type": "code",
   "execution_count": 26,
   "metadata": {},
   "outputs": [
    {
     "name": "stdout",
     "output_type": "stream",
     "text": [
      "Help on function wrapper in module __main__:\n",
      "\n",
      "wrapper(*args)\n",
      "\n"
     ]
    }
   ],
   "source": [
    "help(mysum)"
   ]
  },
  {
   "cell_type": "code",
   "execution_count": null,
   "metadata": {},
   "outputs": [],
   "source": [
    "# how can we avoid that situation?\n",
    "# we use a decorator:\n",
    "\n",
    "import functools\n",
    "\n",
    "def only_ints(func):\n",
    "\n",
    "    @functools.wraps(func)\n",
    "    def wrapper(*args):\n",
    "        ints = [one_arg\n",
    "               for one_arg in args\n",
    "               if isinstance(one_arg, int)]\n",
    "\n",
    "        value = func(*ints)\n",
    "        return value\n",
    "    return wrapper\n",
    "\n",
    "@only_ints\n",
    "def mysum(*numbers):\n",
    "    total = 0\n",
    "\n",
    "    for one_number in numbers:\n",
    "        total += one_number\n",
    "\n",
    "    return total\n",
    "\n",
    "mysum(10, 15, 'hello', 20, 30, 'goodbye')"
   ]
  }
 ],
 "metadata": {
  "kernelspec": {
   "display_name": "Python 3 (ipykernel)",
   "language": "python",
   "name": "python3"
  },
  "language_info": {
   "codemirror_mode": {
    "name": "ipython",
    "version": 3
   },
   "file_extension": ".py",
   "mimetype": "text/x-python",
   "name": "python",
   "nbconvert_exporter": "python",
   "pygments_lexer": "ipython3",
   "version": "3.12.2"
  },
  "widgets": {
   "application/vnd.jupyter.widget-state+json": {
    "state": {},
    "version_major": 2,
    "version_minor": 0
   }
  }
 },
 "nbformat": 4,
 "nbformat_minor": 4
}
