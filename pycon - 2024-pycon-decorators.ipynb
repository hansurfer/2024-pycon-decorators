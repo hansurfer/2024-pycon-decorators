{
 "cells": [
  {
   "cell_type": "markdown",
   "metadata": {},
   "source": [
    "# Welcome!\n",
    "\n",
    "Jupyter repo for this tutorial: https://github.com/reuven/2024-pycon-decorators/\n",
    "\n",
    "# Agenda\n",
    "\n",
    "1. What are decorators?\n",
    "2. Writing your first decorator\n",
    "3. Outer function storage\n",
    "4. Inputs and outputs\n",
    "5. Decorators that take arguments\n",
    "6. Nested decorators\n",
    "7. Decorating classes\n",
    "8. Writing decorators as classes"
   ]
  },
  {
   "cell_type": "markdown",
   "metadata": {},
   "source": [
    "# What are decorators?\n",
    "\n",
    "Let's assume that we have two basic functions."
   ]
  },
  {
   "cell_type": "code",
   "execution_count": 2,
   "metadata": {},
   "outputs": [
    {
     "name": "stdout",
     "output_type": "stream",
     "text": [
      "A!\n",
      "\n",
      "B!\n",
      "\n"
     ]
    }
   ],
   "source": [
    "def a():\n",
    "    return f'A!\\n'\n",
    "\n",
    "def b():\n",
    "    return f'B!\\n'\n",
    "\n",
    "print(a())\n",
    "print(b())"
   ]
  },
  {
   "cell_type": "code",
   "execution_count": 3,
   "metadata": {},
   "outputs": [
    {
     "name": "stdout",
     "output_type": "stream",
     "text": [
      "------------------------------------------------------------\n",
      "A!\n",
      "------------------------------------------------------------\n",
      "\n",
      "------------------------------------------------------------\n",
      "B!\n",
      "------------------------------------------------------------\n",
      "\n"
     ]
    }
   ],
   "source": [
    "lines = '-' * 60 + '\\n'\n",
    "\n",
    "def a():\n",
    "    return f'{lines}A!\\n{lines}'\n",
    "\n",
    "def b():\n",
    "    return f'{lines}B!\\n{lines}'\n",
    "\n",
    "print(a())\n",
    "print(b())"
   ]
  },
  {
   "cell_type": "markdown",
   "metadata": {},
   "source": [
    "# Don't Repeat Yourself (DRY) rule of programming\n",
    "\n",
    "Right now, we have a technique that will require us to include `lines` in every function we write!\n",
    "\n",
    "How can I include `lines` without having to include that variable explicitly in every function?"
   ]
  },
  {
   "cell_type": "code",
   "execution_count": 4,
   "metadata": {},
   "outputs": [
    {
     "name": "stdout",
     "output_type": "stream",
     "text": [
      "----------------------------------------\n",
      "A!\n",
      "----------------------------------------\n",
      "\n",
      "----------------------------------------\n",
      "B!\n",
      "----------------------------------------\n",
      "\n"
     ]
    }
   ],
   "source": [
    "# option 1: Write a new function that takes a function as an argument\n",
    "\n",
    "lines = '-' * 40 + '\\n'\n",
    "\n",
    "def with_lines(func):\n",
    "    return f'{lines}{func()}{lines}'\n",
    "\n",
    "def a():\n",
    "    return f'A!\\n'\n",
    "\n",
    "def b():\n",
    "    return f'B!\\n'\n",
    "\n",
    "print(with_lines(a))\n",
    "print(with_lines(b))"
   ]
  },
  {
   "cell_type": "code",
   "execution_count": 5,
   "metadata": {},
   "outputs": [
    {
     "name": "stdout",
     "output_type": "stream",
     "text": [
      "----------------------------------------\n",
      "A!\n",
      "----------------------------------------\n",
      "\n",
      "----------------------------------------\n",
      "B!\n",
      "----------------------------------------\n",
      "\n"
     ]
    }
   ],
   "source": [
    "# option 2: turn with_lines into a function that returns a function\n",
    "# that is: We're going to create a closure!\n",
    "\n",
    "lines = '-' * 40 + '\\n'\n",
    "\n",
    "def with_lines(func):\n",
    "    def wrapper():\n",
    "        return f'{lines}{func()}{lines}'\n",
    "    return wrapper\n",
    "\n",
    "def a():\n",
    "    return f'A!\\n'\n",
    "with_lines_a = with_lines(a)\n",
    "\n",
    "def b():\n",
    "    return f'B!\\n'\n",
    "\n",
    "with_lines_b = with_lines(b)\n",
    "\n",
    "print(with_lines_a())\n",
    "print(with_lines_b())"
   ]
  },
  {
   "cell_type": "code",
   "execution_count": 7,
   "metadata": {},
   "outputs": [
    {
     "name": "stdout",
     "output_type": "stream",
     "text": [
      "----------------------------------------\n",
      "A!\n",
      "----------------------------------------\n",
      "\n",
      "----------------------------------------\n",
      "B!\n",
      "----------------------------------------\n",
      "\n"
     ]
    }
   ],
   "source": [
    "# option 3: don't assign to with_lines_a and with_lines_b\n",
    "# rather, assign to a and b\n",
    "\n",
    "lines = '-' * 40 + '\\n'\n",
    "\n",
    "def with_lines(func):\n",
    "    def wrapper():\n",
    "        return f'{lines}{func()}{lines}'\n",
    "    return wrapper\n",
    "\n",
    "def a():\n",
    "    return f'A!\\n'\n",
    "a = with_lines(a)\n",
    "\n",
    "def b():\n",
    "    return f'B!\\n'\n",
    "b = with_lines(b)\n",
    "\n",
    "print(a())\n",
    "print(b())"
   ]
  },
  {
   "cell_type": "code",
   "execution_count": 8,
   "metadata": {},
   "outputs": [
    {
     "name": "stdout",
     "output_type": "stream",
     "text": [
      "7\n"
     ]
    }
   ],
   "source": [
    "x = 5\n",
    "x = 7\n",
    "print(x)"
   ]
  },
  {
   "cell_type": "code",
   "execution_count": 9,
   "metadata": {},
   "outputs": [
    {
     "name": "stdout",
     "output_type": "stream",
     "text": [
      "----------------------------------------\n",
      "A!\n",
      "----------------------------------------\n",
      "\n",
      "----------------------------------------\n",
      "B!\n",
      "----------------------------------------\n",
      "\n"
     ]
    }
   ],
   "source": [
    "# option 4: Use Python decorator syntax\n",
    "\n",
    "lines = '-' * 40 + '\\n'\n",
    "\n",
    "def with_lines(func):\n",
    "    def wrapper():\n",
    "        return f'{lines}{func()}{lines}'\n",
    "    return wrapper\n",
    "\n",
    "@with_lines    # this is 100% equivalent to what's in line 13 -- decorator syntax\n",
    "def a():\n",
    "    return f'A!\\n'\n",
    "# a = with_lines(a)\n",
    "\n",
    "@with_lines\n",
    "def b():\n",
    "    return f'B!\\n'\n",
    "# b = with_lines(b)\n",
    "\n",
    "print(a())\n",
    "print(b())"
   ]
  },
  {
   "cell_type": "markdown",
   "metadata": {},
   "source": [
    "# Who needs this? \n",
    "\n",
    "1. if I have many functions that need to do the same thing, I can extract that functionality into a decorator, and thus DRY up my code.\n",
    "2. Timing my functions\n",
    "3. Security of my functions\n",
    "4. Setting values before/after (setup/teardown)\n",
    "5. Logging\n",
    "6. Checking/filtering inputs\n",
    "7. Filtering outputs"
   ]
  },
  {
   "cell_type": "code",
   "execution_count": 11,
   "metadata": {},
   "outputs": [
    {
     "ename": "TypeError",
     "evalue": "with_lines.<locals>.wrapper() takes 0 positional arguments but 2 were given",
     "output_type": "error",
     "traceback": [
      "\u001b[0;31m---------------------------------------------------------------------------\u001b[0m",
      "\u001b[0;31mTypeError\u001b[0m                                 Traceback (most recent call last)",
      "Cell \u001b[0;32mIn[11], line 7\u001b[0m\n\u001b[1;32m      3\u001b[0m \u001b[38;5;129m@with_lines\u001b[39m\n\u001b[1;32m      4\u001b[0m \u001b[38;5;28;01mdef\u001b[39;00m \u001b[38;5;21madd\u001b[39m(x, y):\n\u001b[1;32m      5\u001b[0m     \u001b[38;5;28;01mreturn\u001b[39;00m \u001b[38;5;124mf\u001b[39m\u001b[38;5;124m'\u001b[39m\u001b[38;5;132;01m{\u001b[39;00mx\u001b[38;5;250m \u001b[39m\u001b[38;5;241m+\u001b[39m\u001b[38;5;250m \u001b[39my\u001b[38;5;132;01m}\u001b[39;00m\u001b[38;5;130;01m\\n\u001b[39;00m\u001b[38;5;124m'\u001b[39m\n\u001b[0;32m----> 7\u001b[0m \u001b[38;5;28mprint\u001b[39m(\u001b[43madd\u001b[49m\u001b[43m(\u001b[49m\u001b[38;5;241;43m3\u001b[39;49m\u001b[43m,\u001b[49m\u001b[43m \u001b[49m\u001b[38;5;241;43m5\u001b[39;49m\u001b[43m)\u001b[49m)\n",
      "\u001b[0;31mTypeError\u001b[0m: with_lines.<locals>.wrapper() takes 0 positional arguments but 2 were given"
     ]
    }
   ],
   "source": [
    "# let's decorate another function!\n",
    "\n",
    "@with_lines\n",
    "def add(x, y):\n",
    "    return f'{x + y}\\n'\n",
    "\n",
    "print(add(3, 5))"
   ]
  },
  {
   "cell_type": "code",
   "execution_count": 13,
   "metadata": {},
   "outputs": [
    {
     "name": "stdout",
     "output_type": "stream",
     "text": [
      "----------------------------------------\n",
      "8\n",
      "----------------------------------------\n",
      "\n"
     ]
    }
   ],
   "source": [
    "\n",
    "def with_lines(func):\n",
    "    def wrapper(*args):   # take any number of positional arguments, create a tuple, args\n",
    "        return f'{lines}{func(*args)}{lines}'  # turn args into arguments to func()\n",
    "    return wrapper\n",
    "\n",
    "@with_lines\n",
    "def add(x, y):\n",
    "    return f'{x + y}\\n'\n",
    "\n",
    "print(add(3, 5))"
   ]
  },
  {
   "cell_type": "markdown",
   "metadata": {},
   "source": [
    "# How to write a decorator\n",
    "\n",
    "1. The outer function, the decorator, takes one argument, a function (`func`) -- this is the function that will be decorated. This outer function is invoked once, when we define the decorated function.\n",
    "2. The inner function, typically called `wrapper`, takes `*args` (and maybe `**kwargs`). It in invoked every time the original function is invoked. It can do whatever it wants with the arguments and outputs\n",
    "3. Ater defining the inner function, the outer function returns `wrapper`.\n",
    "4. We can then decorate any function with `@deco_name`"
   ]
  },
  {
   "cell_type": "code",
   "execution_count": null,
   "metadata": {},
   "outputs": [],
   "source": []
  }
 ],
 "metadata": {
  "kernelspec": {
   "display_name": "Python 3 (ipykernel)",
   "language": "python",
   "name": "python3"
  },
  "language_info": {
   "codemirror_mode": {
    "name": "ipython",
    "version": 3
   },
   "file_extension": ".py",
   "mimetype": "text/x-python",
   "name": "python",
   "nbconvert_exporter": "python",
   "pygments_lexer": "ipython3",
   "version": "3.12.2"
  },
  "widgets": {
   "application/vnd.jupyter.widget-state+json": {
    "state": {},
    "version_major": 2,
    "version_minor": 0
   }
  }
 },
 "nbformat": 4,
 "nbformat_minor": 4
}
